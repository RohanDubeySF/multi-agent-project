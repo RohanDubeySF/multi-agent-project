{
 "cells": [
  {
   "cell_type": "code",
   "execution_count": 32,
   "metadata": {},
   "outputs": [
    {
     "data": {
      "text/plain": [
       "True"
      ]
     },
     "execution_count": 32,
     "metadata": {},
     "output_type": "execute_result"
    }
   ],
   "source": [
    "from langchain_community.tools import DuckDuckGoSearchResults\n",
    "from langchain_groq import ChatGroq\n",
    "from langchain_google_genai.chat_models import ChatGoogleGenerativeAI\n",
    "import os\n",
    "from serpapi import GoogleSearch\n",
    "from dotenv import load_dotenv\n",
    "load_dotenv()"
   ]
  },
  {
   "cell_type": "code",
   "execution_count": 33,
   "metadata": {},
   "outputs": [],
   "source": [
    "key=os.getenv(\"Serp\")"
   ]
  },
  {
   "cell_type": "code",
   "execution_count": 29,
   "metadata": {},
   "outputs": [],
   "source": [
    "query=\"LangGraph tutorial\""
   ]
  },
  {
   "cell_type": "code",
   "execution_count": 43,
   "metadata": {},
   "outputs": [],
   "source": [
    "def courses(query):\n",
    "  params = {\n",
    "    \"engine\": \"google\",\n",
    "    \"q\": f\"Free {query} site:udemy.com OR site:coursera.org\",\n",
    "    \"hl\": \"en\",\n",
    "    \"gl\": \"in\",\n",
    "    \"google_domain\": \"google.com\",\n",
    "    \"num\": \"5\",\n",
    "    \"start\": \"10\",\n",
    "    \"safe\": \"active\",\n",
    "    \"api_key\": key\n",
    "  }\n",
    "\n",
    "  search = GoogleSearch(params)\n",
    "  results = search.get_dict()\n",
    "  organic_results = results[\"organic_results\"]\n",
    "  \n",
    "  return organic_results\n"
   ]
  },
  {
   "cell_type": "code",
   "execution_count": 44,
   "metadata": {},
   "outputs": [],
   "source": [
    "res=courses(query)"
   ]
  },
  {
   "cell_type": "code",
   "execution_count": 45,
   "metadata": {},
   "outputs": [
    {
     "data": {
      "text/plain": [
       "[{'position': 1,\n",
       "  'title': 'Top Free Generative AI (GenAI) Courses & Tutorials Online',\n",
       "  'link': 'https://www.udemy.com/topic/generative-ai/free/?srsltid=AfmBOoqma5O-yiywKeQEkQSLUIcxvSFHGoJPaGnS2NPT-jFAgwJ_bobH',\n",
       "  'redirect_link': 'https://www.google.com/url?sa=t&source=web&rct=j&opi=89978449&url=https://www.udemy.com/topic/generative-ai/free/%3Fsrsltid%3DAfmBOoqma5O-yiywKeQEkQSLUIcxvSFHGoJPaGnS2NPT-jFAgwJ_bobH&ved=2ahUKEwigpITEoa-NAxXyRTABHXkAIe44ChAWegQIGxAB',\n",
       "  'displayed_link': 'https://www.udemy.com › topic › generative-ai › free',\n",
       "  'favicon': 'https://serpapi.com/searches/682aff70a204abae2401d66a/images/611d69211ef20e412172243246c5b0f3766a8facb4e5f5859a6c216c49fe4720.png',\n",
       "  'snippet': \"Free learning on Udemy. A Gentle Introduction to Generative AI. In this beginner-friendly session, let's learn Generative AI fundamentals and its applications.\",\n",
       "  'snippet_highlighted_words': ['Free learning on Udemy'],\n",
       "  'source': 'Udemy'},\n",
       " {'position': 2,\n",
       "  'title': 'Langchain for beginners : Build GenAI LLM Apps in Easy ...',\n",
       "  'link': 'https://www.udemy.com/course/langchain-for-beginners-build-genai-llm-apps-in-easy-steps/?srsltid=AfmBOoptJo_dR4XN2W-yJ_BBRICoTDgKjVumFYhrQa3mjGjwlL5SoPU6',\n",
       "  'redirect_link': 'https://www.google.com/url?sa=t&source=web&rct=j&opi=89978449&url=https://www.udemy.com/course/langchain-for-beginners-build-genai-llm-apps-in-easy-steps/%3Fsrsltid%3DAfmBOoptJo_dR4XN2W-yJ_BBRICoTDgKjVumFYhrQa3mjGjwlL5SoPU6&ved=2ahUKEwigpITEoa-NAxXyRTABHXkAIe44ChAWegQIHBAB',\n",
       "  'displayed_link': 'https://www.udemy.com › ... › LangChain',\n",
       "  'favicon': 'https://serpapi.com/searches/682aff70a204abae2401d66a/images/611d69211ef20e412172243246c5b0f3c64b44772a8cc50b6294838c4a604df1.png',\n",
       "  'date': '31 Mar 2025',\n",
       "  'snippet': 'This course is designed to help you get started with LangChain and progressively master its powerful features, all through clear and simple ...',\n",
       "  'snippet_highlighted_words': ['LangChain'],\n",
       "  'source': 'Udemy'},\n",
       " {'position': 3,\n",
       "  'title': 'Free AI Agents Tutorial - AI Crash Course',\n",
       "  'link': 'https://www.udemy.com/course/ai-crash-course/?srsltid=AfmBOoq41WCK7EZqbbuHtiN4JoDlpMKhmx33iO3MF_1MIh16OCC4hmdQ',\n",
       "  'redirect_link': 'https://www.google.com/url?sa=t&source=web&rct=j&opi=89978449&url=https://www.udemy.com/course/ai-crash-course/%3Fsrsltid%3DAfmBOoq41WCK7EZqbbuHtiN4JoDlpMKhmx33iO3MF_1MIh16OCC4hmdQ&ved=2ahUKEwigpITEoa-NAxXyRTABHXkAIe44ChAWegQIHRAB',\n",
       "  'displayed_link': 'https://www.udemy.com › ... › AI Agents',\n",
       "  'favicon': 'https://serpapi.com/searches/682aff70a204abae2401d66a/images/611d69211ef20e412172243246c5b0f360c9be9696521d521c578f58a0cfb024.png',\n",
       "  'date': '27 Mar 2025',\n",
       "  'snippet': 'You will also learn how to successfully implement AI agents, from understanding the data required to creating a scalable AI solution.',\n",
       "  'snippet_highlighted_words': ['how to successfully implement AI agents'],\n",
       "  'source': 'Udemy'},\n",
       " {'position': 4,\n",
       "  'title': 'AI Agents Bootcamp: Build with LangChain, RAG, Langflow ...',\n",
       "  'link': 'https://www.udemy.com/course/ai-agents-bootcamp-build-with-langchain-rag-langflow-gpt/?srsltid=AfmBOoqoV3wT1w-SDifnrEO8OEGbeEAZ-jZD6Nh1WXMyHQ96qBbMVxiG',\n",
       "  'redirect_link': 'https://www.google.com/url?sa=t&source=web&rct=j&opi=89978449&url=https://www.udemy.com/course/ai-agents-bootcamp-build-with-langchain-rag-langflow-gpt/%3Fsrsltid%3DAfmBOoqoV3wT1w-SDifnrEO8OEGbeEAZ-jZD6Nh1WXMyHQ96qBbMVxiG&ved=2ahUKEwigpITEoa-NAxXyRTABHXkAIe44ChAWegQIGhAB',\n",
       "  'displayed_link': 'https://www.udemy.com › ... › AI Agents',\n",
       "  'favicon': 'https://serpapi.com/searches/682aff70a204abae2401d66a/images/611d69211ef20e412172243246c5b0f3abc3dc7986df511d61441f137e59f43d.png',\n",
       "  'date': '17 Apr 2025',\n",
       "  'snippet': 'Master the fundamentals and advanced concepts of building AI-driven agents with LangChain, Langflow & GPT-4. Design and build AI agents using LangChain, ...',\n",
       "  'snippet_highlighted_words': ['Master the fundamentals and advanced concepts of building AI-driven agents'],\n",
       "  'source': 'Udemy'},\n",
       " {'position': 5,\n",
       "  'title': 'Zero to Hero in LangChain: Build GenAI apps using ...',\n",
       "  'link': 'https://www.udemy.com/course/zero-to-hero-in-langchain/?srsltid=AfmBOopB3CBkhf6rqAnn4y2HXZI1QDZjbeK3BpJaiKi1fBVFhGXFxavs',\n",
       "  'redirect_link': 'https://www.google.com/url?sa=t&source=web&rct=j&opi=89978449&url=https://www.udemy.com/course/zero-to-hero-in-langchain/%3Fsrsltid%3DAfmBOopB3CBkhf6rqAnn4y2HXZI1QDZjbeK3BpJaiKi1fBVFhGXFxavs&ved=2ahUKEwigpITEoa-NAxXyRTABHXkAIe44ChAWegQIGBAB',\n",
       "  'displayed_link': 'https://www.udemy.com › ... › Data Science › LangChain',\n",
       "  'favicon': 'https://serpapi.com/searches/682aff70a204abae2401d66a/images/611d69211ef20e412172243246c5b0f38c2519a0083063ce4f1c00cdac105486.png',\n",
       "  'snippet': 'Learn all features of LangChain & build Generative AI applications with Memory, RAG, Tools, Agents etc. using LangChain.',\n",
       "  'snippet_highlighted_words': ['Learn all features of LangChain'],\n",
       "  'source': 'Udemy'}]"
      ]
     },
     "execution_count": 45,
     "metadata": {},
     "output_type": "execute_result"
    }
   ],
   "source": [
    "res"
   ]
  },
  {
   "cell_type": "code",
   "execution_count": null,
   "metadata": {},
   "outputs": [],
   "source": []
  },
  {
   "cell_type": "code",
   "execution_count": 2,
   "metadata": {},
   "outputs": [],
   "source": [
    "model1=ChatGoogleGenerativeAI(model='gemini-2.5-pro')\n",
    "\n",
    "model2=ChatGroq(model='llama-3.1-8b-instant')"
   ]
  },
  {
   "cell_type": "code",
   "execution_count": 3,
   "metadata": {},
   "outputs": [],
   "source": [
    "def find_web_courses(topic):\n",
    "    \"\"\"\n",
    "    Find free online courses for a given topic\n",
    "    Returns list of courses with details\n",
    "    \"\"\"\n",
    "    # Initialize search tool\n",
    "    web_search = DuckDuckGoSearchResults()\n",
    "    \n",
    "    # Search web for free courses\n",
    "    raw_results = web_search.invoke(f\"free {topic} course OR tutorial OR learning resource site:udemy.com OR coursera.org OR freecodecamp.org\")\n",
    "    \n",
    "    # # Process results with LLM to extract structured information\n",
    "    # prompt = ChatPromptTemplate.from_messages([\n",
    "    #     SystemMessage(content=(\n",
    "    #         \"You are an online course curator. Extract the following details from web search results:\\n\"\n",
    "    #         \"1. Course Title\\n\"\n",
    "    #         \"2. Platform/Provider\\n\"\n",
    "    #         \"3. URL\\n\"\n",
    "    #         \"4. Brief description\\n\"\n",
    "    #         \"5. Key features (free certification, projects, etc.)\\n\"\n",
    "    #         \"Format as a numbered list with clear labels for each field.\\n\"\n",
    "    #         \"Include only the most relevant 5 results.\"\n",
    "    #         \"Ensure all listed courses are completely free to access.\"\n",
    "    #     )),\n",
    "    #     HumanMessage(content=raw_results)\n",
    "    # ])\n",
    "    # formatted_results = model2.invoke(prompt.format_messages(input=topic))\n",
    "    \n",
    "    # return formatted_results.content\n",
    "    return raw_results"
   ]
  },
  {
   "cell_type": "code",
   "execution_count": 4,
   "metadata": {},
   "outputs": [
    {
     "ename": "DuckDuckGoSearchException",
     "evalue": "https://lite.duckduckgo.com/lite/ 202 Ratelimit",
     "output_type": "error",
     "traceback": [
      "\u001b[0;31m---------------------------------------------------------------------------\u001b[0m",
      "\u001b[0;31mDuckDuckGoSearchException\u001b[0m                 Traceback (most recent call last)",
      "Cell \u001b[0;32mIn[4], line 1\u001b[0m\n\u001b[0;32m----> 1\u001b[0m \u001b[43mfind_web_courses\u001b[49m\u001b[43m(\u001b[49m\u001b[38;5;124;43m\"\u001b[39;49m\u001b[38;5;124;43mlangGraph\u001b[39;49m\u001b[38;5;124;43m\"\u001b[39;49m\u001b[43m)\u001b[49m\n",
      "Cell \u001b[0;32mIn[3], line 10\u001b[0m, in \u001b[0;36mfind_web_courses\u001b[0;34m(topic)\u001b[0m\n\u001b[1;32m      7\u001b[0m web_search \u001b[38;5;241m=\u001b[39m DuckDuckGoSearchResults()\n\u001b[1;32m      9\u001b[0m \u001b[38;5;66;03m# Search web for free courses\u001b[39;00m\n\u001b[0;32m---> 10\u001b[0m raw_results \u001b[38;5;241m=\u001b[39m \u001b[43mweb_search\u001b[49m\u001b[38;5;241;43m.\u001b[39;49m\u001b[43minvoke\u001b[49m\u001b[43m(\u001b[49m\u001b[38;5;124;43mf\u001b[39;49m\u001b[38;5;124;43m\"\u001b[39;49m\u001b[38;5;124;43mfree \u001b[39;49m\u001b[38;5;132;43;01m{\u001b[39;49;00m\u001b[43mtopic\u001b[49m\u001b[38;5;132;43;01m}\u001b[39;49;00m\u001b[38;5;124;43m course OR tutorial OR learning resource site:udemy.com OR coursera.org OR freecodecamp.org\u001b[39;49m\u001b[38;5;124;43m\"\u001b[39;49m\u001b[43m)\u001b[49m\n\u001b[1;32m     12\u001b[0m \u001b[38;5;66;03m# # Process results with LLM to extract structured information\u001b[39;00m\n\u001b[1;32m     13\u001b[0m \u001b[38;5;66;03m# prompt = ChatPromptTemplate.from_messages([\u001b[39;00m\n\u001b[1;32m     14\u001b[0m \u001b[38;5;66;03m#     SystemMessage(content=(\u001b[39;00m\n\u001b[0;32m   (...)\u001b[0m\n\u001b[1;32m     28\u001b[0m \n\u001b[1;32m     29\u001b[0m \u001b[38;5;66;03m# return formatted_results.content\u001b[39;00m\n\u001b[1;32m     30\u001b[0m \u001b[38;5;28;01mreturn\u001b[39;00m raw_results\n",
      "File \u001b[0;32m~/.pyenv/versions/3.9.22/envs/agent-project/lib/python3.9/site-packages/langchain_core/tools/base.py:513\u001b[0m, in \u001b[0;36mBaseTool.invoke\u001b[0;34m(self, input, config, **kwargs)\u001b[0m\n\u001b[1;32m    505\u001b[0m \u001b[38;5;129m@override\u001b[39m\n\u001b[1;32m    506\u001b[0m \u001b[38;5;28;01mdef\u001b[39;00m\u001b[38;5;250m \u001b[39m\u001b[38;5;21minvoke\u001b[39m(\n\u001b[1;32m    507\u001b[0m     \u001b[38;5;28mself\u001b[39m,\n\u001b[0;32m   (...)\u001b[0m\n\u001b[1;32m    510\u001b[0m     \u001b[38;5;241m*\u001b[39m\u001b[38;5;241m*\u001b[39mkwargs: Any,\n\u001b[1;32m    511\u001b[0m ) \u001b[38;5;241m-\u001b[39m\u001b[38;5;241m>\u001b[39m Any:\n\u001b[1;32m    512\u001b[0m     tool_input, kwargs \u001b[38;5;241m=\u001b[39m _prep_run_args(\u001b[38;5;28minput\u001b[39m, config, \u001b[38;5;241m*\u001b[39m\u001b[38;5;241m*\u001b[39mkwargs)\n\u001b[0;32m--> 513\u001b[0m     \u001b[38;5;28;01mreturn\u001b[39;00m \u001b[38;5;28;43mself\u001b[39;49m\u001b[38;5;241;43m.\u001b[39;49m\u001b[43mrun\u001b[49m\u001b[43m(\u001b[49m\u001b[43mtool_input\u001b[49m\u001b[43m,\u001b[49m\u001b[43m \u001b[49m\u001b[38;5;241;43m*\u001b[39;49m\u001b[38;5;241;43m*\u001b[39;49m\u001b[43mkwargs\u001b[49m\u001b[43m)\u001b[49m\n",
      "File \u001b[0;32m~/.pyenv/versions/3.9.22/envs/agent-project/lib/python3.9/site-packages/langchain_core/tools/base.py:774\u001b[0m, in \u001b[0;36mBaseTool.run\u001b[0;34m(self, tool_input, verbose, start_color, color, callbacks, tags, metadata, run_name, run_id, config, tool_call_id, **kwargs)\u001b[0m\n\u001b[1;32m    772\u001b[0m \u001b[38;5;28;01mif\u001b[39;00m error_to_raise:\n\u001b[1;32m    773\u001b[0m     run_manager\u001b[38;5;241m.\u001b[39mon_tool_error(error_to_raise)\n\u001b[0;32m--> 774\u001b[0m     \u001b[38;5;28;01mraise\u001b[39;00m error_to_raise\n\u001b[1;32m    775\u001b[0m output \u001b[38;5;241m=\u001b[39m _format_output(content, artifact, tool_call_id, \u001b[38;5;28mself\u001b[39m\u001b[38;5;241m.\u001b[39mname, status)\n\u001b[1;32m    776\u001b[0m run_manager\u001b[38;5;241m.\u001b[39mon_tool_end(output, color\u001b[38;5;241m=\u001b[39mcolor, name\u001b[38;5;241m=\u001b[39m\u001b[38;5;28mself\u001b[39m\u001b[38;5;241m.\u001b[39mname, \u001b[38;5;241m*\u001b[39m\u001b[38;5;241m*\u001b[39mkwargs)\n",
      "File \u001b[0;32m~/.pyenv/versions/3.9.22/envs/agent-project/lib/python3.9/site-packages/langchain_core/tools/base.py:743\u001b[0m, in \u001b[0;36mBaseTool.run\u001b[0;34m(self, tool_input, verbose, start_color, color, callbacks, tags, metadata, run_name, run_id, config, tool_call_id, **kwargs)\u001b[0m\n\u001b[1;32m    741\u001b[0m     \u001b[38;5;28;01mif\u001b[39;00m config_param \u001b[38;5;241m:=\u001b[39m _get_runnable_config_param(\u001b[38;5;28mself\u001b[39m\u001b[38;5;241m.\u001b[39m_run):\n\u001b[1;32m    742\u001b[0m         tool_kwargs \u001b[38;5;241m=\u001b[39m tool_kwargs \u001b[38;5;241m|\u001b[39m {config_param: config}\n\u001b[0;32m--> 743\u001b[0m     response \u001b[38;5;241m=\u001b[39m \u001b[43mcontext\u001b[49m\u001b[38;5;241;43m.\u001b[39;49m\u001b[43mrun\u001b[49m\u001b[43m(\u001b[49m\u001b[38;5;28;43mself\u001b[39;49m\u001b[38;5;241;43m.\u001b[39;49m\u001b[43m_run\u001b[49m\u001b[43m,\u001b[49m\u001b[43m \u001b[49m\u001b[38;5;241;43m*\u001b[39;49m\u001b[43mtool_args\u001b[49m\u001b[43m,\u001b[49m\u001b[43m \u001b[49m\u001b[38;5;241;43m*\u001b[39;49m\u001b[38;5;241;43m*\u001b[39;49m\u001b[43mtool_kwargs\u001b[49m\u001b[43m)\u001b[49m\n\u001b[1;32m    744\u001b[0m \u001b[38;5;28;01mif\u001b[39;00m \u001b[38;5;28mself\u001b[39m\u001b[38;5;241m.\u001b[39mresponse_format \u001b[38;5;241m==\u001b[39m \u001b[38;5;124m\"\u001b[39m\u001b[38;5;124mcontent_and_artifact\u001b[39m\u001b[38;5;124m\"\u001b[39m:\n\u001b[1;32m    745\u001b[0m     \u001b[38;5;28;01mif\u001b[39;00m \u001b[38;5;129;01mnot\u001b[39;00m \u001b[38;5;28misinstance\u001b[39m(response, \u001b[38;5;28mtuple\u001b[39m) \u001b[38;5;129;01mor\u001b[39;00m \u001b[38;5;28mlen\u001b[39m(response) \u001b[38;5;241m!=\u001b[39m \u001b[38;5;241m2\u001b[39m:\n",
      "File \u001b[0;32m~/.pyenv/versions/3.9.22/envs/agent-project/lib/python3.9/site-packages/langchain_community/tools/ddg_search/tool.py:112\u001b[0m, in \u001b[0;36mDuckDuckGoSearchResults._run\u001b[0;34m(self, query, run_manager)\u001b[0m\n\u001b[1;32m    106\u001b[0m \u001b[38;5;28;01mdef\u001b[39;00m\u001b[38;5;250m \u001b[39m\u001b[38;5;21m_run\u001b[39m(\n\u001b[1;32m    107\u001b[0m     \u001b[38;5;28mself\u001b[39m,\n\u001b[1;32m    108\u001b[0m     query: \u001b[38;5;28mstr\u001b[39m,\n\u001b[1;32m    109\u001b[0m     run_manager: Optional[CallbackManagerForToolRun] \u001b[38;5;241m=\u001b[39m \u001b[38;5;28;01mNone\u001b[39;00m,\n\u001b[1;32m    110\u001b[0m ) \u001b[38;5;241m-\u001b[39m\u001b[38;5;241m>\u001b[39m \u001b[38;5;28mtuple\u001b[39m[Union[List[\u001b[38;5;28mdict\u001b[39m], \u001b[38;5;28mstr\u001b[39m], List[\u001b[38;5;28mdict\u001b[39m]]:\n\u001b[1;32m    111\u001b[0m \u001b[38;5;250m    \u001b[39m\u001b[38;5;124;03m\"\"\"Use the tool.\"\"\"\u001b[39;00m\n\u001b[0;32m--> 112\u001b[0m     raw_results \u001b[38;5;241m=\u001b[39m \u001b[38;5;28;43mself\u001b[39;49m\u001b[38;5;241;43m.\u001b[39;49m\u001b[43mapi_wrapper\u001b[49m\u001b[38;5;241;43m.\u001b[39;49m\u001b[43mresults\u001b[49m\u001b[43m(\u001b[49m\n\u001b[1;32m    113\u001b[0m \u001b[43m        \u001b[49m\u001b[43mquery\u001b[49m\u001b[43m,\u001b[49m\u001b[43m \u001b[49m\u001b[38;5;28;43mself\u001b[39;49m\u001b[38;5;241;43m.\u001b[39;49m\u001b[43mmax_results\u001b[49m\u001b[43m,\u001b[49m\u001b[43m \u001b[49m\u001b[43msource\u001b[49m\u001b[38;5;241;43m=\u001b[39;49m\u001b[38;5;28;43mself\u001b[39;49m\u001b[38;5;241;43m.\u001b[39;49m\u001b[43mbackend\u001b[49m\n\u001b[1;32m    114\u001b[0m \u001b[43m    \u001b[49m\u001b[43m)\u001b[49m\n\u001b[1;32m    115\u001b[0m     results \u001b[38;5;241m=\u001b[39m [\n\u001b[1;32m    116\u001b[0m         {\n\u001b[1;32m    117\u001b[0m             k: v\n\u001b[0;32m   (...)\u001b[0m\n\u001b[1;32m    121\u001b[0m         \u001b[38;5;28;01mfor\u001b[39;00m d \u001b[38;5;129;01min\u001b[39;00m raw_results\n\u001b[1;32m    122\u001b[0m     ]\n\u001b[1;32m    124\u001b[0m     \u001b[38;5;28;01mif\u001b[39;00m \u001b[38;5;28mself\u001b[39m\u001b[38;5;241m.\u001b[39moutput_format \u001b[38;5;241m==\u001b[39m \u001b[38;5;124m\"\u001b[39m\u001b[38;5;124mlist\u001b[39m\u001b[38;5;124m\"\u001b[39m:\n",
      "File \u001b[0;32m~/.pyenv/versions/3.9.22/envs/agent-project/lib/python3.9/site-packages/langchain_community/utilities/duckduckgo_search.py:146\u001b[0m, in \u001b[0;36mDuckDuckGoSearchAPIWrapper.results\u001b[0;34m(self, query, max_results, source)\u001b[0m\n\u001b[1;32m    142\u001b[0m source \u001b[38;5;241m=\u001b[39m source \u001b[38;5;129;01mor\u001b[39;00m \u001b[38;5;28mself\u001b[39m\u001b[38;5;241m.\u001b[39msource\n\u001b[1;32m    143\u001b[0m \u001b[38;5;28;01mif\u001b[39;00m source \u001b[38;5;241m==\u001b[39m \u001b[38;5;124m\"\u001b[39m\u001b[38;5;124mtext\u001b[39m\u001b[38;5;124m\"\u001b[39m:\n\u001b[1;32m    144\u001b[0m     results \u001b[38;5;241m=\u001b[39m [\n\u001b[1;32m    145\u001b[0m         {\u001b[38;5;124m\"\u001b[39m\u001b[38;5;124msnippet\u001b[39m\u001b[38;5;124m\"\u001b[39m: r[\u001b[38;5;124m\"\u001b[39m\u001b[38;5;124mbody\u001b[39m\u001b[38;5;124m\"\u001b[39m], \u001b[38;5;124m\"\u001b[39m\u001b[38;5;124mtitle\u001b[39m\u001b[38;5;124m\"\u001b[39m: r[\u001b[38;5;124m\"\u001b[39m\u001b[38;5;124mtitle\u001b[39m\u001b[38;5;124m\"\u001b[39m], \u001b[38;5;124m\"\u001b[39m\u001b[38;5;124mlink\u001b[39m\u001b[38;5;124m\"\u001b[39m: r[\u001b[38;5;124m\"\u001b[39m\u001b[38;5;124mhref\u001b[39m\u001b[38;5;124m\"\u001b[39m]}\n\u001b[0;32m--> 146\u001b[0m         \u001b[38;5;28;01mfor\u001b[39;00m r \u001b[38;5;129;01min\u001b[39;00m \u001b[38;5;28;43mself\u001b[39;49m\u001b[38;5;241;43m.\u001b[39;49m\u001b[43m_ddgs_text\u001b[49m\u001b[43m(\u001b[49m\u001b[43mquery\u001b[49m\u001b[43m,\u001b[49m\u001b[43m \u001b[49m\u001b[43mmax_results\u001b[49m\u001b[38;5;241;43m=\u001b[39;49m\u001b[43mmax_results\u001b[49m\u001b[43m)\u001b[49m\n\u001b[1;32m    147\u001b[0m     ]\n\u001b[1;32m    148\u001b[0m \u001b[38;5;28;01melif\u001b[39;00m source \u001b[38;5;241m==\u001b[39m \u001b[38;5;124m\"\u001b[39m\u001b[38;5;124mnews\u001b[39m\u001b[38;5;124m\"\u001b[39m:\n\u001b[1;32m    149\u001b[0m     results \u001b[38;5;241m=\u001b[39m [\n\u001b[1;32m    150\u001b[0m         {\n\u001b[1;32m    151\u001b[0m             \u001b[38;5;124m\"\u001b[39m\u001b[38;5;124msnippet\u001b[39m\u001b[38;5;124m\"\u001b[39m: r[\u001b[38;5;124m\"\u001b[39m\u001b[38;5;124mbody\u001b[39m\u001b[38;5;124m\"\u001b[39m],\n\u001b[0;32m   (...)\u001b[0m\n\u001b[1;32m    157\u001b[0m         \u001b[38;5;28;01mfor\u001b[39;00m r \u001b[38;5;129;01min\u001b[39;00m \u001b[38;5;28mself\u001b[39m\u001b[38;5;241m.\u001b[39m_ddgs_news(query, max_results\u001b[38;5;241m=\u001b[39mmax_results)\n\u001b[1;32m    158\u001b[0m     ]\n",
      "File \u001b[0;32m~/.pyenv/versions/3.9.22/envs/agent-project/lib/python3.9/site-packages/langchain_community/utilities/duckduckgo_search.py:64\u001b[0m, in \u001b[0;36mDuckDuckGoSearchAPIWrapper._ddgs_text\u001b[0;34m(self, query, max_results)\u001b[0m\n\u001b[1;32m     61\u001b[0m \u001b[38;5;28;01mfrom\u001b[39;00m\u001b[38;5;250m \u001b[39m\u001b[38;5;21;01mduckduckgo_search\u001b[39;00m\u001b[38;5;250m \u001b[39m\u001b[38;5;28;01mimport\u001b[39;00m DDGS\n\u001b[1;32m     63\u001b[0m \u001b[38;5;28;01mwith\u001b[39;00m DDGS() \u001b[38;5;28;01mas\u001b[39;00m ddgs:\n\u001b[0;32m---> 64\u001b[0m     ddgs_gen \u001b[38;5;241m=\u001b[39m \u001b[43mddgs\u001b[49m\u001b[38;5;241;43m.\u001b[39;49m\u001b[43mtext\u001b[49m\u001b[43m(\u001b[49m\n\u001b[1;32m     65\u001b[0m \u001b[43m        \u001b[49m\u001b[43mquery\u001b[49m\u001b[43m,\u001b[49m\n\u001b[1;32m     66\u001b[0m \u001b[43m        \u001b[49m\u001b[43mregion\u001b[49m\u001b[38;5;241;43m=\u001b[39;49m\u001b[38;5;28;43mself\u001b[39;49m\u001b[38;5;241;43m.\u001b[39;49m\u001b[43mregion\u001b[49m\u001b[43m,\u001b[49m\n\u001b[1;32m     67\u001b[0m \u001b[43m        \u001b[49m\u001b[43msafesearch\u001b[49m\u001b[38;5;241;43m=\u001b[39;49m\u001b[38;5;28;43mself\u001b[39;49m\u001b[38;5;241;43m.\u001b[39;49m\u001b[43msafesearch\u001b[49m\u001b[43m,\u001b[49m\n\u001b[1;32m     68\u001b[0m \u001b[43m        \u001b[49m\u001b[43mtimelimit\u001b[49m\u001b[38;5;241;43m=\u001b[39;49m\u001b[38;5;28;43mself\u001b[39;49m\u001b[38;5;241;43m.\u001b[39;49m\u001b[43mtime\u001b[49m\u001b[43m,\u001b[49m\n\u001b[1;32m     69\u001b[0m \u001b[43m        \u001b[49m\u001b[43mmax_results\u001b[49m\u001b[38;5;241;43m=\u001b[39;49m\u001b[43mmax_results\u001b[49m\u001b[43m \u001b[49m\u001b[38;5;129;43;01mor\u001b[39;49;00m\u001b[43m \u001b[49m\u001b[38;5;28;43mself\u001b[39;49m\u001b[38;5;241;43m.\u001b[39;49m\u001b[43mmax_results\u001b[49m\u001b[43m,\u001b[49m\n\u001b[1;32m     70\u001b[0m \u001b[43m        \u001b[49m\u001b[43mbackend\u001b[49m\u001b[38;5;241;43m=\u001b[39;49m\u001b[38;5;28;43mself\u001b[39;49m\u001b[38;5;241;43m.\u001b[39;49m\u001b[43mbackend\u001b[49m\u001b[43m,\u001b[49m\n\u001b[1;32m     71\u001b[0m \u001b[43m    \u001b[49m\u001b[43m)\u001b[49m\n\u001b[1;32m     72\u001b[0m     \u001b[38;5;28;01mif\u001b[39;00m ddgs_gen:\n\u001b[1;32m     73\u001b[0m         \u001b[38;5;28;01mreturn\u001b[39;00m [r \u001b[38;5;28;01mfor\u001b[39;00m r \u001b[38;5;129;01min\u001b[39;00m ddgs_gen]\n",
      "File \u001b[0;32m~/.pyenv/versions/3.9.22/envs/agent-project/lib/python3.9/site-packages/duckduckgo_search/duckduckgo_search.py:184\u001b[0m, in \u001b[0;36mDDGS.text\u001b[0;34m(self, keywords, region, safesearch, timelimit, backend, max_results)\u001b[0m\n\u001b[1;32m    181\u001b[0m         logger\u001b[38;5;241m.\u001b[39minfo(\u001b[38;5;124mf\u001b[39m\u001b[38;5;124m\"\u001b[39m\u001b[38;5;124mError to search using \u001b[39m\u001b[38;5;132;01m{\u001b[39;00mb\u001b[38;5;132;01m}\u001b[39;00m\u001b[38;5;124m backend: \u001b[39m\u001b[38;5;132;01m{\u001b[39;00mex\u001b[38;5;132;01m}\u001b[39;00m\u001b[38;5;124m\"\u001b[39m)\n\u001b[1;32m    182\u001b[0m         err \u001b[38;5;241m=\u001b[39m ex\n\u001b[0;32m--> 184\u001b[0m \u001b[38;5;28;01mraise\u001b[39;00m DuckDuckGoSearchException(err)\n",
      "\u001b[0;31mDuckDuckGoSearchException\u001b[0m: https://lite.duckduckgo.com/lite/ 202 Ratelimit"
     ]
    }
   ],
   "source": [
    "find_web_courses(\"langGraph\")"
   ]
  },
  {
   "cell_type": "code",
   "execution_count": null,
   "metadata": {},
   "outputs": [],
   "source": [
    "\"\""
   ]
  }
 ],
 "metadata": {
  "kernelspec": {
   "display_name": "agent-project",
   "language": "python",
   "name": "python3"
  },
  "language_info": {
   "codemirror_mode": {
    "name": "ipython",
    "version": 3
   },
   "file_extension": ".py",
   "mimetype": "text/x-python",
   "name": "python",
   "nbconvert_exporter": "python",
   "pygments_lexer": "ipython3",
   "version": "3.9.22"
  }
 },
 "nbformat": 4,
 "nbformat_minor": 2
}
