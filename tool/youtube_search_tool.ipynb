{
 "cells": [
  {
   "cell_type": "code",
   "execution_count": 2,
   "metadata": {},
   "outputs": [
    {
     "name": "stderr",
     "output_type": "stream",
     "text": [
      "/home/rohan.dubey@simform.dom/.pyenv/versions/3.9.22/envs/agent-project/lib/python3.9/site-packages/tqdm/auto.py:21: TqdmWarning: IProgress not found. Please update jupyter and ipywidgets. See https://ipywidgets.readthedocs.io/en/stable/user_install.html\n",
      "  from .autonotebook import tqdm as notebook_tqdm\n"
     ]
    },
    {
     "data": {
      "text/plain": [
       "True"
      ]
     },
     "execution_count": 2,
     "metadata": {},
     "output_type": "execute_result"
    }
   ],
   "source": [
    "from youtubesearchpython import VideosSearch,PlaylistsSearch\n",
    "from langchain_groq import ChatGroq\n",
    "from langchain_google_genai.chat_models import ChatGoogleGenerativeAI\n",
    "from dotenv import load_dotenv\n",
    "load_dotenv()"
   ]
  },
  {
   "cell_type": "code",
   "execution_count": 3,
   "metadata": {},
   "outputs": [],
   "source": [
    "model1=ChatGoogleGenerativeAI(model='gemini-2.5-pro')\n",
    "\n",
    "model2=ChatGroq(model='llama-3.1-8b-instant')"
   ]
  },
  {
   "cell_type": "code",
   "execution_count": 8,
   "metadata": {},
   "outputs": [],
   "source": [
    "query =\"LanGraph Tutorials\""
   ]
  },
  {
   "cell_type": "code",
   "execution_count": 7,
   "metadata": {},
   "outputs": [],
   "source": [
    "from youtube_search import YoutubeSearch\n",
    "from langchain_core.runnables import RunnableLambda"
   ]
  },
  {
   "cell_type": "code",
   "execution_count": 94,
   "metadata": {},
   "outputs": [],
   "source": [
    "run=RunnableLambda(lambda x : YoutubeSearch(x).to_json())"
   ]
  },
  {
   "cell_type": "code",
   "execution_count": 95,
   "metadata": {},
   "outputs": [
    {
     "data": {
      "text/plain": [
       "'{\"videos\": [{\"id\": \"gqvFmK7LpDo\", \"thumbnails\": [\"https://i.ytimg.com/vi/gqvFmK7LpDo/hq720.jpg?sqp=-oaymwEjCOgCEMoBSFryq4qpAxUIARUAAAAAGAElAADIQj0AgKJDeAE=&rs=AOn4CLAcQ4j9ldrf9uhWx03RCmnhFoW73Q\", \"https://i.ytimg.com/vi/gqvFmK7LpDo/hq720.jpg?sqp=-oaymwEXCNAFEJQDSFryq4qpAwkIARUAAIhCGAE=&rs=AOn4CLBbkq22oDmASFrRvuyDRzYQP8aV0w\"], \"title\": \"Tutorial 1-Getting Started With LangGraph- Building Stateful Multi AI Agents\", \"long_desc\": null, \"channel\": \"Krish Naik\", \"duration\": \"40:23\", \"views\": \"100,192 views\", \"publish_time\": \"8 months ago\", \"url_suffix\": \"/watch?v=gqvFmK7LpDo&pp=ygUJTGFuZ0dyYXBo\"}, {\"id\": \"qAF1NjEVHhY\", \"thumbnails\": [\"https://i.ytimg.com/vi/qAF1NjEVHhY/hq720.jpg?sqp=-oaymwEjCOgCEMoBSFryq4qpAxUIARUAAAAAGAElAADIQj0AgKJDeAE=&rs=AOn4CLCMF4eEECgQUETQq7YITCMk585qcg\", \"https://i.ytimg.com/vi/qAF1NjEVHhY/hq720.jpg?sqp=-oaymwEXCNAFEJQDSFryq4qpAwkIARUAAIhCGAE=&rs=AOn4CLBMWD1Zfoqu0TJhQXaLEcYVGj_0MQ\"], \"title\": \"LangChain vs LangGraph: A Tale of Two Frameworks\", \"long_desc\": null, \"channel\": \"IBM Technology\", \"duration\": \"9:55\", \"views\": \"208,654 views\", \"publish_time\": \"6 months ago\", \"url_suffix\": \"/watch?v=qAF1NjEVHhY&pp=ygUJTGFuZ0dyYXBo0gcJCYsJAYcqIYzv\"}, {\"id\": \"1w5cCXlh7JQ\", \"thumbnails\": [\"https://i.ytimg.com/vi/1w5cCXlh7JQ/hq720.jpg?sqp=-oaymwEjCOgCEMoBSFryq4qpAxUIARUAAAAAGAElAADIQj0AgKJDeAE=&rs=AOn4CLAYIVdLyXPP2wOcnmi1_LvlZkfsPA\", \"https://i.ytimg.com/vi/1w5cCXlh7JQ/hq720.jpg?sqp=-oaymwEXCNAFEJQDSFryq4qpAwkIARUAAIhCGAE=&rs=AOn4CLCmy0kbK20SodrwGGa5MAWvhfsxPA\"], \"title\": \"LangGraph Tutorial - How to Build Advanced AI Agent Systems\", \"long_desc\": null, \"channel\": \"Tech With Tim\", \"duration\": \"46:49\", \"views\": \"30,596 views\", \"publish_time\": \"8 days ago\", \"url_suffix\": \"/watch?v=1w5cCXlh7JQ&pp=ygUJTGFuZ0dyYXBo\"}, {\"id\": \"Y3dbzuQBnUw\", \"thumbnails\": [\"https://i.ytimg.com/vi/Y3dbzuQBnUw/hq720.jpg?sqp=-oaymwEjCOgCEMoBSFryq4qpAxUIARUAAAAAGAElAADIQj0AgKJDeAE=&rs=AOn4CLA9Q9UXF5ErMVO8kzePp7sEkfrpxw\", \"https://i.ytimg.com/vi/Y3dbzuQBnUw/hq720.jpg?sqp=-oaymwEXCNAFEJQDSFryq4qpAwkIARUAAIhCGAE=&rs=AOn4CLCMJj8cvlDue-fehyteQxinUQ8RRA\"], \"title\": \"LangGraph Crash Course For Beginners 2025 | Full 8 Hour Course | LangGraph 0.4V LATEST!\", \"long_desc\": null, \"channel\": \"Harish Neel | AI\", \"duration\": \"8:45:11\", \"views\": \"4,450 views\", \"publish_time\": \"10 days ago\", \"url_suffix\": \"/watch?v=Y3dbzuQBnUw&pp=ygUJTGFuZ0dyYXBo\"}, {\"id\": \"kVqk_eCEOns\", \"thumbnails\": [\"https://i.ytimg.com/vi/kVqk_eCEOns/hq720.jpg?sqp=-oaymwEjCOgCEMoBSFryq4qpAxUIARUAAAAAGAElAADIQj0AgKJDeAE=&rs=AOn4CLCrpK5SbaxQKD9b7IwGd4A2F5969Q\", \"https://i.ytimg.com/vi/kVqk_eCEOns/hq720.jpg?sqp=-oaymwEXCNAFEJQDSFryq4qpAwkIARUAAIhCGAE=&rs=AOn4CLCKYWVO42881za_UMwQzLNwtpmMQA\"], \"title\": \"CrewAI vs AutoGen vs LangGraph: Features, Pros & Cons Compared (2025)\", \"long_desc\": null, \"channel\": \"GuideToEverything\", \"duration\": \"2:52\", \"views\": \"639 views\", \"publish_time\": \"3 weeks ago\", \"url_suffix\": \"/watch?v=kVqk_eCEOns&pp=ygUJTGFuZ0dyYXBo\"}, {\"id\": \"npeEuyCxesU\", \"thumbnails\": [\"https://i.ytimg.com/vi/npeEuyCxesU/hq720.jpg?sqp=-oaymwEjCOgCEMoBSFryq4qpAxUIARUAAAAAGAElAADIQj0AgKJDeAE=&rs=AOn4CLBCBqr5ve9W539xhDkb5p_sQtppXQ\", \"https://i.ytimg.com/vi/npeEuyCxesU/hq720.jpg?sqp=-oaymwEXCNAFEJQDSFryq4qpAwkIARUAAIhCGAE=&rs=AOn4CLCYDG-xVfF9KXW1m40kF6WJsv9PXQ\"], \"title\": \"Mastering LangChain Retrievals: A Guide to Intelligent Information Access - part 4\", \"long_desc\": null, \"channel\": \"cholakovit\", \"duration\": \"24:43\", \"views\": \"22 views\", \"publish_time\": \"2 days ago\", \"url_suffix\": \"/watch?v=npeEuyCxesU&pp=ygUJTGFuZ0dyYXBo\"}, {\"id\": \"aHCDrAbH_go\", \"thumbnails\": [\"https://i.ytimg.com/vi/aHCDrAbH_go/hq720.jpg?sqp=-oaymwEjCOgCEMoBSFryq4qpAxUIARUAAAAAGAElAADIQj0AgKJDeAE=&rs=AOn4CLCZLUcD4ToBFaIEpZJYFu4s4qsRqw\", \"https://i.ytimg.com/vi/aHCDrAbH_go/hq720.jpg?sqp=-oaymwEXCNAFEJQDSFryq4qpAwkIARUAAIhCGAE=&rs=AOn4CLDSfKErX0Wju8KeXJjKM00XkgpMzQ\"], \"title\": \"Building Effective Agents with LangGraph\", \"long_desc\": null, \"channel\": \"LangChain\", \"duration\": \"31:50\", \"views\": \"96,553 views\", \"publish_time\": \"3 months ago\", \"url_suffix\": \"/watch?v=aHCDrAbH_go&pp=ygUJTGFuZ0dyYXBo\"}, {\"id\": \"UltwJqpNA04\", \"thumbnails\": [\"https://i.ytimg.com/vi/UltwJqpNA04/hqdefault.jpg?sqp=-oaymwEjCOADEI4CSFryq4qpAxUIARUAAAAAGAElAADIQj0AgKJDeAE=&rs=AOn4CLDydCT2NrEdTxaigW7-lwsG66GbWQ\"], \"title\": \"Tutorials 2-Live Getting Started With LangGraph For Building AI Agents\", \"long_desc\": null, \"channel\": \"Krish Naik\", \"duration\": \"1:08:59\", \"views\": \"17,316 views\", \"publish_time\": \"Streamed 1 month ago\", \"url_suffix\": \"/watch?v=UltwJqpNA04&pp=ygUJTGFuZ0dyYXBo\"}, {\"id\": \"ldBsvhjEREc\", \"thumbnails\": [\"https://i.ytimg.com/vi/ldBsvhjEREc/hq720.jpg?sqp=-oaymwEjCOgCEMoBSFryq4qpAxUIARUAAAAAGAElAADIQj0AgKJDeAE=&rs=AOn4CLAjck_gjSQaG93EJ5A9md7lLibQaQ\", \"https://i.ytimg.com/vi/ldBsvhjEREc/hq720.jpg?sqp=-oaymwEXCNAFEJQDSFryq4qpAwkIARUAAIhCGAE=&rs=AOn4CLBLExAu20gthjyIFuK5dNzqeDn7tQ\"], \"title\": \"LangGraph vs LangChain vs LangFlow vs LangSmith : Which One To Use & Why?\", \"long_desc\": null, \"channel\": \"FuturMinds\", \"duration\": \"9:44\", \"views\": \"54,426 views\", \"publish_time\": \"8 months ago\", \"url_suffix\": \"/watch?v=ldBsvhjEREc&pp=ygUJTGFuZ0dyYXBo\"}, {\"id\": \"tAresTJB9cY\", \"thumbnails\": [\"https://i.ytimg.com/vi/tAresTJB9cY/hq720.jpg?sqp=-oaymwEjCOgCEMoBSFryq4qpAxUIARUAAAAAGAElAADIQj0AgKJDeAE=&rs=AOn4CLA4V4mjyEC84HTb1M2LPQnxLXzqvw\", \"https://i.ytimg.com/vi/tAresTJB9cY/hq720.jpg?sqp=-oaymwEXCNAFEJQDSFryq4qpAwkIARUAAIhCGAE=&rs=AOn4CLCV_qw76tylA5U13N_yHhpoorJfCQ\"], \"title\": \"Pydantic AI vs LangGraph \\\\u2013 Pick The Right Data Validation Tool in 2025! (FULL OVERVIEW!)\", \"long_desc\": null, \"channel\": \"Tobi Teaches\", \"duration\": \"1:20\", \"views\": \"443 views\", \"publish_time\": \"1 month ago\", \"url_suffix\": \"/watch?v=tAresTJB9cY&pp=ygUJTGFuZ0dyYXBo\"}, {\"id\": \"1Q_MDOWaljk\", \"thumbnails\": [\"https://i.ytimg.com/vi/1Q_MDOWaljk/hq720.jpg?sqp=-oaymwEjCOgCEMoBSFryq4qpAxUIARUAAAAAGAElAADIQj0AgKJDeAE=&rs=AOn4CLAjHWdDPWkDGkXTGNtntActAmLX8g\", \"https://i.ytimg.com/vi/1Q_MDOWaljk/hq720.jpg?sqp=-oaymwEXCNAFEJQDSFryq4qpAwkIARUAAIhCGAE=&rs=AOn4CLCP9TFi-cFD-us2O4REjKZBewO4zg\"], \"title\": \"Agentic Framework LangGraph explained in 8 minutes | Beginners Guide\", \"long_desc\": null, \"channel\": \"W.W. AI Adventures\", \"duration\": \"8:04\", \"views\": \"31,588 views\", \"publish_time\": \"4 months ago\", \"url_suffix\": \"/watch?v=1Q_MDOWaljk&pp=ygUJTGFuZ0dyYXBo\"}, {\"id\": \"usOmwLZNVuM\", \"thumbnails\": [\"https://i.ytimg.com/vi/usOmwLZNVuM/hq720.jpg?sqp=-oaymwEjCOgCEMoBSFryq4qpAxUIARUAAAAAGAElAADIQj0AgKJDeAE=&rs=AOn4CLCqPWpnSSDtzodE_Vpru2fo-qIICg\", \"https://i.ytimg.com/vi/usOmwLZNVuM/hq720.jpg?sqp=-oaymwEXCNAFEJQDSFryq4qpAwkIARUAAIhCGAE=&rs=AOn4CLBBltxyCvW6xOU9LIrpRdYRBSi3OA\"], \"title\": \"LangGraph Deep Dive: Build Better Agents\", \"long_desc\": null, \"channel\": \"James Briggs\", \"duration\": \"46:13\", \"views\": \"41,609 views\", \"publish_time\": \"9 months ago\", \"url_suffix\": \"/watch?v=usOmwLZNVuM&pp=ygUJTGFuZ0dyYXBo\"}, {\"id\": \"qaWOwbFw3cs\", \"thumbnails\": [\"https://i.ytimg.com/vi/qaWOwbFw3cs/hq720.jpg?sqp=-oaymwEjCOgCEMoBSFryq4qpAxUIARUAAAAAGAElAADIQj0AgKJDeAE=&rs=AOn4CLBHILFeY2GvsBtpPOwoexDm6AEDfQ\", \"https://i.ytimg.com/vi/qaWOwbFw3cs/hq720.jpg?sqp=-oaymwEXCNAFEJQDSFryq4qpAwkIARUAAIhCGAE=&rs=AOn4CLAjNxe_AnnzeHvoAy0lVZzFotKxlQ\"], \"title\": \"LangGraph 101: it\\'s better than LangChain\", \"long_desc\": null, \"channel\": \"James Briggs\", \"duration\": \"32:26\", \"views\": \"99,723 views\", \"publish_time\": \"1 year ago\", \"url_suffix\": \"/watch?v=qaWOwbFw3cs&pp=ygUJTGFuZ0dyYXBo\"}, {\"id\": \"JeyDrn1dSUQ\", \"thumbnails\": [\"https://i.ytimg.com/vi/JeyDrn1dSUQ/hq720.jpg?sqp=-oaymwEjCOgCEMoBSFryq4qpAxUIARUAAAAAGAElAADIQj0AgKJDeAE=&rs=AOn4CLBwqFaaDdFRjH0zTd9qGat_VBHVAQ\", \"https://i.ytimg.com/vi/JeyDrn1dSUQ/hq720.jpg?sqp=-oaymwEXCNAFEJQDSFryq4qpAwkIARUAAIhCGAE=&rs=AOn4CLBgPHCyCxw6o0jIDYZC5sP1PWGWLA\"], \"title\": \"Multi-agent swarms with LangGraph\", \"long_desc\": null, \"channel\": \"LangChain\", \"duration\": \"10:05\", \"views\": \"35,571 views\", \"publish_time\": \"2 months ago\", \"url_suffix\": \"/watch?v=JeyDrn1dSUQ&pp=ygUJTGFuZ0dyYXBo\"}]}'"
      ]
     },
     "execution_count": 95,
     "metadata": {},
     "output_type": "execute_result"
    }
   ],
   "source": [
    "run.invoke(\"LangGraph\")"
   ]
  },
  {
   "cell_type": "code",
   "execution_count": 41,
   "metadata": {},
   "outputs": [],
   "source": [
    "result=YoutubeSearch(query,max_results=3).to_dict()"
   ]
  },
  {
   "cell_type": "code",
   "execution_count": 52,
   "metadata": {},
   "outputs": [
    {
     "name": "stdout",
     "output_type": "stream",
     "text": [
      "{'id': 'aHCDrAbH_go', 'thumbnails': ['https://i.ytimg.com/vi/aHCDrAbH_go/hq720.jpg?sqp=-oaymwEjCOgCEMoBSFryq4qpAxUIARUAAAAAGAElAADIQj0AgKJDeAE=&rs=AOn4CLCZLUcD4ToBFaIEpZJYFu4s4qsRqw', 'https://i.ytimg.com/vi/aHCDrAbH_go/hq720.jpg?sqp=-oaymwEXCNAFEJQDSFryq4qpAwkIARUAAIhCGAE=&rs=AOn4CLDSfKErX0Wju8KeXJjKM00XkgpMzQ'], 'title': 'Building Effective Agents with LangGraph', 'long_desc': None, 'channel': 'LangChain', 'duration': '31:50', 'views': '96,495 views', 'publish_time': '3 months ago', 'url_suffix': '/watch?v=aHCDrAbH_go&pp=ygUSTGFuR3JhcGggVHV0b3JpYWxz0gcJCYsJAYcqIYzv'}\n"
     ]
    }
   ],
   "source": [
    "print(result[1])"
   ]
  },
  {
   "cell_type": "code",
   "execution_count": 54,
   "metadata": {},
   "outputs": [
    {
     "name": "stdout",
     "output_type": "stream",
     "text": [
      "id  PqS1kib7RTw\n",
      "thumbnails  ['https://i.ytimg.com/vi/PqS1kib7RTw/hq720.jpg?sqp=-oaymwEjCOgCEMoBSFryq4qpAxUIARUAAAAAGAElAADIQj0AgKJDeAE=&rs=AOn4CLCB8M0TncSFwM0c-SSpBYwsAKwoxA', 'https://i.ytimg.com/vi/PqS1kib7RTw/hq720.jpg?sqp=-oaymwEXCNAFEJQDSFryq4qpAwkIARUAAIhCGAE=&rs=AOn4CLAzxtxSNt_snIe6071ofqLJ2Y_QDQ']\n",
      "title  LangGraph Crash Course with code examples\n",
      "long_desc  None\n",
      "channel  Sam Witteveen\n",
      "duration  39:01\n",
      "views  111,345 views\n",
      "publish_time  1 year ago\n",
      "url_suffix  /watch?v=PqS1kib7RTw&pp=ygUSTGFuR3JhcGggVHV0b3JpYWxz\n"
     ]
    }
   ],
   "source": [
    "for a in result[1]:\n",
    "    print(f\"{a}  {result[2][a]}\")"
   ]
  },
  {
   "cell_type": "code",
   "execution_count": 4,
   "metadata": {},
   "outputs": [],
   "source": [
    "from langchain.tools import YouTubeSearchTool\n",
    "from langchain.prompts import ChatPromptTemplate\n",
    "from langchain.schema import HumanMessage, SystemMessage\n",
    "from langchain_core.tools import tool\n",
    "from langchain_core.output_parsers import StrOutputParser\n",
    "import os"
   ]
  },
  {
   "cell_type": "code",
   "execution_count": 8,
   "metadata": {},
   "outputs": [],
   "source": [
    "@tool   \n",
    "def find_youtube_resources(topic:str)->str:\n",
    "    \"\"\"\n",
    "    Find YouTube playlists/videos for a given topic\n",
    "    Returns list of resources with details\n",
    "    \"\"\"\n",
    "    # Initialize YouTube search tool\n",
    "    yt_search = ()\n",
    "    \n",
    "    # Search YouTube\n",
    "    raw_results = YoutubeSearch(f\"{topic} course OR tutorial OR playlist\").to_json()\n",
    "    \n",
    "    # Process results with LLM to extract structured information\n",
    "    prompt = ChatPromptTemplate([\n",
    "        (\"system\",\n",
    "            \"\"\"You are a YouTube resource curator. Extract the following details from YouTube search results:\\n\"\n",
    "            \"1. Title\\n\"\n",
    "            \"2. Channel Name\\n\"\n",
    "            \"3. URL\\n\"\n",
    "            \"4. Duration (if available)\\n\"\n",
    "            \"5. Brief description\\n\"\n",
    "            \"Format as a numbered list with clear labels for each field.\\n\"\n",
    "            \"Include only the most relevant 5 results.\"\"\"),\n",
    "        (\"human\",\"Search results : {results}\")\n",
    "    ])\n",
    "    chain=RunnableLambda(lambda x : YoutubeSearch(x).to_json())  |prompt | model2 | StrOutputParser()\n",
    "    formatted_results = chain.invoke(topic)\n",
    "    #formatted_results = model2.invoke(prompt.format_messages(input=topic))\n",
    "    \n",
    "    return formatted_results"
   ]
  },
  {
   "cell_type": "code",
   "execution_count": 9,
   "metadata": {},
   "outputs": [],
   "source": [
    "result=find_youtube_resources.invoke(\"LangChain\")"
   ]
  },
  {
   "cell_type": "code",
   "execution_count": 10,
   "metadata": {},
   "outputs": [
    {
     "name": "stdout",
     "output_type": "stream",
     "text": [
      "Here are the most relevant 5 YouTube search results for \"LangChain\" along with their details:\n",
      "\n",
      "1. **Title**: LangChain explained - The hottest new Python framework\n",
      "**Channel Name**: AssemblyAI\n",
      "**URL**: https://www.youtube.com/watch?v=RoR4XJw8wIc\n",
      "**Duration**: 3:03\n",
      "**Brief description**: A video explaining LangChain, a new Python framework for building generative AI models.\n",
      "\n",
      "2. **Title**: LangChain Crash Course For Beginners | LangChain Tutorial\n",
      "**Channel Name**: codebasics\n",
      "**URL**: https://www.youtube.com/watch?v=nAmC7SoVLd8\n",
      "**Duration**: 46:07\n",
      "**Brief description**: A comprehensive tutorial for beginners on LangChain, covering its basics and concepts.\n",
      "\n",
      "3. **Title**: Complete Langchain Course For Generative AI In 3 Hours\n",
      "**Channel Name**: Krish Naik\n",
      "**URL**: https://www.youtube.com/watch?v=swCPic00c30\n",
      "**Duration**: 3:13:35\n",
      "**Brief description**: A 3-hour course on LangChain for building generative AI models.\n",
      "\n",
      "4. **Title**: LangChain Master Class For Beginners 2024 [+20 Examples, LangChain V0.2]\n",
      "**Channel Name**: aiwithbrandon\n",
      "**URL**: https://www.youtube.com/watch?v=yF9kGESAi3M\n",
      "**Duration**: 3:17:51\n",
      "**Brief description**: A master class on LangChain for beginners, covering its latest features and examples.\n",
      "\n",
      "5. **Title**: LangChain Explained in 13 Minutes | QuickStart Tutorial for Beginners\n",
      "**Channel Name**: Rabbitmetrics\n",
      "**URL**: https://www.youtube.com/watch?v=aywZrzNaKjs\n",
      "**Duration**: 12:44\n",
      "**Brief description**: A quick-start tutorial on LangChain, explaining its basics and concepts in 13 minutes.\n"
     ]
    }
   ],
   "source": [
    "print(result)"
   ]
  },
  {
   "cell_type": "code",
   "execution_count": null,
   "metadata": {},
   "outputs": [],
   "source": []
  }
 ],
 "metadata": {
  "kernelspec": {
   "display_name": "agent-project",
   "language": "python",
   "name": "python3"
  },
  "language_info": {
   "codemirror_mode": {
    "name": "ipython",
    "version": 3
   },
   "file_extension": ".py",
   "mimetype": "text/x-python",
   "name": "python",
   "nbconvert_exporter": "python",
   "pygments_lexer": "ipython3",
   "version": "3.9.22"
  }
 },
 "nbformat": 4,
 "nbformat_minor": 2
}
